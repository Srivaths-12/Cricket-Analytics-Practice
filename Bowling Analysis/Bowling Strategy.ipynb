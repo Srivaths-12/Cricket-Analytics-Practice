{
 "cells": [
  {
   "cell_type": "markdown",
   "metadata": {},
   "source": [
    "# Bowling Strategy based on Venues"
   ]
  },
  {
   "cell_type": "code",
   "execution_count": 1,
   "metadata": {},
   "outputs": [],
   "source": [
    "import math\n",
    "import pandas as pd\n",
    "import numpy as np\n",
    "\n",
    "import warnings\n",
    "warnings.filterwarnings('ignore')\n",
    "\n",
    "pd.set_option('display.max_columns', None)\n",
    "pd.set_option('display.max_rows', None)\n",
    "pd.set_option('display.expand_frame_repr', False)\n",
    "pd.set_option('max_colwidth', -1)\n",
    "\n",
    "import matplotlib.pyplot as plt"
   ]
  },
  {
   "cell_type": "code",
   "execution_count": 2,
   "metadata": {},
   "outputs": [],
   "source": [
    "deliveries = pd.read_csv('deliveries_updated_mens_ipl.csv')\n",
    "matches = pd.read_csv('matches_updated_mens_ipl.csv')"
   ]
  },
  {
   "cell_type": "code",
   "execution_count": 3,
   "metadata": {},
   "outputs": [],
   "source": [
    "df = deliveries.copy()\n",
    "mdf = matches.copy()"
   ]
  },
  {
   "cell_type": "code",
   "execution_count": 4,
   "metadata": {},
   "outputs": [],
   "source": [
    "def is_bowler_wicket(player_dismissed, dismissal_kind):\n",
    "    if type(player_dismissed) == str:\n",
    "        if dismissal_kind not in ['run out', 'retired hurt', 'obstructing the field']:\n",
    "             return 1\n",
    "        else:\n",
    "            return 0\n",
    "    else:\n",
    "        return 0"
   ]
  },
  {
   "cell_type": "code",
   "execution_count": 5,
   "metadata": {},
   "outputs": [],
   "source": [
    "df['isBowlerWk'] = df.apply(lambda x: is_bowler_wicket(x['player_dismissed'], x['dismissal_kind']), axis = 1)"
   ]
  },
  {
   "cell_type": "code",
   "execution_count": 6,
   "metadata": {},
   "outputs": [],
   "source": [
    "df['total_runs'] = df['batsman_runs'] + df['extras']"
   ]
  },
  {
   "cell_type": "code",
   "execution_count": 7,
   "metadata": {},
   "outputs": [],
   "source": [
    "cdf = df.merge(mdf, on ='matchId', how = 'left')"
   ]
  },
  {
   "cell_type": "code",
   "execution_count": 8,
   "metadata": {},
   "outputs": [],
   "source": [
    "def phase(over):\n",
    "    if over < 6:\n",
    "        return 'Powerplay Overs'\n",
    "    elif over < 16:\n",
    "        return 'Middle Overs'\n",
    "    else:\n",
    "        return 'Death Overs'"
   ]
  },
  {
   "cell_type": "code",
   "execution_count": 9,
   "metadata": {},
   "outputs": [],
   "source": [
    "cdf['Phase'] = cdf['over'].apply(lambda x : phase(x))"
   ]
  },
  {
   "cell_type": "code",
   "execution_count": 10,
   "metadata": {},
   "outputs": [],
   "source": [
    "cdf1 = cdf[(cdf.venue == 'M.Chinnaswamy Stadium') | (cdf.venue == 'M Chinnaswamy Stadium')]                                                     "
   ]
  },
  {
   "cell_type": "code",
   "execution_count": 11,
   "metadata": {},
   "outputs": [],
   "source": [
    "cdf1['venue'] = cdf1['venue'].replace(['M.Chinnaswamy Stadium',\n",
    "       'M Chinnaswamy Stadium'], 'Chinnaswamy Bangalore')"
   ]
  },
  {
   "cell_type": "code",
   "execution_count": 12,
   "metadata": {},
   "outputs": [],
   "source": [
    "def SR(Balls,Dismissals):\n",
    "    if Dismissals > 0:\n",
    "        return Balls/Dismissals\n",
    "    else:\n",
    "        return Balls/1\n",
    "    \n",
    "def Eco(Runs_Conceded,Balls):\n",
    "    if Balls > 0:\n",
    "        return Runs_Conceded/Balls\n",
    "    else:\n",
    "        return 1000\n",
    "    \n",
    "def Avg(Runs_Conceded,Dismissals):\n",
    "    if Dismissals > 0:\n",
    "        return Runs_Conceded/Dismissals\n",
    "    elif(Runs_Conceded == 0):\n",
    "        return 1000\n",
    "    else:\n",
    "        return Runs_Conceded/1"
   ]
  },
  {
   "cell_type": "code",
   "execution_count": 13,
   "metadata": {},
   "outputs": [],
   "source": [
    "def BowlerStats(df,current_Phase,current_venue): \n",
    "    \n",
    "    #This function is used to differentiate performance based on innings wise\n",
    "    \n",
    "    df = df[df.Phase == current_Phase]\n",
    "    df = df[df.venue == current_venue]\n",
    "    df.reset_index(inplace = True, drop = True)\n",
    "    \n",
    "    df['isDot'] = df['total_runs'].apply(lambda x: 1 if x == 0 else 0)\n",
    "    df['isOne'] = df['total_runs'].apply(lambda x: 1 if x == 1 else 0)\n",
    "    df['isTwo'] = df['total_runs'].apply(lambda x: 1 if x == 2 else 0)\n",
    "    df['isThree'] = df['total_runs'].apply(lambda x: 1 if x == 3 else 0)\n",
    "    df['isFour'] = df['total_runs'].apply(lambda x: 1 if x == 4 else 0)\n",
    "    df['isSix'] = df['total_runs'].apply(lambda x: 1 if x == 6 else 0)\n",
    "\n",
    "    runs = pd.DataFrame(df.groupby(['bowler'])['total_runs'].sum()).reset_index().rename(columns = {'total_runs':'Runs'})\n",
    "    balls = pd.DataFrame(df.groupby(['bowler'])['matchId'].count()).reset_index().rename(columns = {'matchId' : 'Balls'})\n",
    "    innings = pd.DataFrame(df.groupby(['bowler'])['matchId'].apply(lambda x : len(list(np.unique(x))))).reset_index().rename(columns = {'matchId' : 'Innings'})\n",
    "    dismissals = pd.DataFrame(df.groupby(['bowler'])['isBowlerWk'].sum()).reset_index().rename(columns = {'isBowlerWk' : 'Dismissals'})\n",
    "    fours = pd.DataFrame(df.groupby(['bowler'])['isFour'].sum()).reset_index().rename(columns = {'isFour' : 'Fours'})\n",
    "    sixes = pd.DataFrame(df.groupby(['bowler'])['isSix'].sum()).reset_index().rename(columns = {'isSix' : 'Sixes'})\n",
    "    dots = pd.DataFrame(df.groupby(['bowler'])['isDot'].sum()).reset_index().rename(columns = {'isDot' : 'Dots'})\n",
    "    ones = pd.DataFrame(df.groupby(['bowler'])['isOne'].sum()).reset_index().rename(columns = {'isOne' : 'Ones'})\n",
    "    twos = pd.DataFrame(df.groupby(['bowler'])['isTwo'].sum()).reset_index().rename(columns = {'isTwo' : 'Twos'})\n",
    "    threes = pd.DataFrame(df.groupby(['bowler'])['isThree'].sum()).reset_index().rename(columns = {'isThree' : 'Threes'})\n",
    "    \n",
    "    df = pd.merge(innings,runs, on ='bowler').merge(balls,on='bowler').merge(dismissals,on='bowler').merge(fours,on='bowler').merge(sixes,on='bowler').merge(dots,on='bowler').merge(ones,on='bowler').merge(twos,on='bowler').merge(threes,on='bowler')\n",
    "    \n",
    "    df['Dot%'] = df.apply(lambda x : 100*(x['Dots']/x['Balls']), axis = 1)\n",
    "    df['SR'] = df.apply(lambda x: SR(x['Balls'],x['Dismissals']), axis = 1)\n",
    "    df['Eco'] = df.apply(lambda x: 6*Eco(x['Runs'],x['Balls']), axis = 1)\n",
    "    df['Avg'] = df.apply(lambda x: Avg(x['Runs'],x['Dismissals']), axis = 1)\n",
    "    \n",
    "    return df"
   ]
  },
  {
   "cell_type": "code",
   "execution_count": 14,
   "metadata": {},
   "outputs": [],
   "source": [
    "df5 = BowlerStats(cdf1,'Powerplay Overs','Chinnaswamy Bangalore')\n",
    "df6 = BowlerStats(cdf1,'Middle Overs','Chinnaswamy Bangalore')\n",
    "df7 = BowlerStats(cdf1,'Death Overs','Chinnaswamy Bangalore')"
   ]
  },
  {
   "cell_type": "code",
   "execution_count": 15,
   "metadata": {},
   "outputs": [
    {
     "data": {
      "text/html": [
       "<div>\n",
       "<style scoped>\n",
       "    .dataframe tbody tr th:only-of-type {\n",
       "        vertical-align: middle;\n",
       "    }\n",
       "\n",
       "    .dataframe tbody tr th {\n",
       "        vertical-align: top;\n",
       "    }\n",
       "\n",
       "    .dataframe thead th {\n",
       "        text-align: right;\n",
       "    }\n",
       "</style>\n",
       "<table border=\"1\" class=\"dataframe\">\n",
       "  <thead>\n",
       "    <tr style=\"text-align: right;\">\n",
       "      <th></th>\n",
       "      <th>bowler</th>\n",
       "      <th>Innings</th>\n",
       "      <th>Runs</th>\n",
       "      <th>Balls</th>\n",
       "      <th>Dismissals</th>\n",
       "      <th>Fours</th>\n",
       "      <th>Sixes</th>\n",
       "      <th>Dots</th>\n",
       "      <th>Ones</th>\n",
       "      <th>Twos</th>\n",
       "      <th>Threes</th>\n",
       "      <th>Dot%</th>\n",
       "      <th>SR</th>\n",
       "      <th>Eco</th>\n",
       "      <th>Avg</th>\n",
       "    </tr>\n",
       "  </thead>\n",
       "  <tbody>\n",
       "    <tr>\n",
       "      <th>0</th>\n",
       "      <td>A Chandila</td>\n",
       "      <td>1</td>\n",
       "      <td>4</td>\n",
       "      <td>6</td>\n",
       "      <td>0</td>\n",
       "      <td>0</td>\n",
       "      <td>0</td>\n",
       "      <td>3</td>\n",
       "      <td>2</td>\n",
       "      <td>1</td>\n",
       "      <td>0</td>\n",
       "      <td>50.000000</td>\n",
       "      <td>6.00</td>\n",
       "      <td>4.000000</td>\n",
       "      <td>4.0</td>\n",
       "    </tr>\n",
       "    <tr>\n",
       "      <th>1</th>\n",
       "      <td>A Choudhary</td>\n",
       "      <td>2</td>\n",
       "      <td>20</td>\n",
       "      <td>18</td>\n",
       "      <td>1</td>\n",
       "      <td>2</td>\n",
       "      <td>1</td>\n",
       "      <td>10</td>\n",
       "      <td>4</td>\n",
       "      <td>1</td>\n",
       "      <td>0</td>\n",
       "      <td>55.555556</td>\n",
       "      <td>18.00</td>\n",
       "      <td>6.666667</td>\n",
       "      <td>20.0</td>\n",
       "    </tr>\n",
       "    <tr>\n",
       "      <th>2</th>\n",
       "      <td>A Kumble</td>\n",
       "      <td>3</td>\n",
       "      <td>16</td>\n",
       "      <td>18</td>\n",
       "      <td>0</td>\n",
       "      <td>2</td>\n",
       "      <td>0</td>\n",
       "      <td>9</td>\n",
       "      <td>6</td>\n",
       "      <td>1</td>\n",
       "      <td>0</td>\n",
       "      <td>50.000000</td>\n",
       "      <td>18.00</td>\n",
       "      <td>5.333333</td>\n",
       "      <td>16.0</td>\n",
       "    </tr>\n",
       "    <tr>\n",
       "      <th>3</th>\n",
       "      <td>A Mithun</td>\n",
       "      <td>3</td>\n",
       "      <td>30</td>\n",
       "      <td>25</td>\n",
       "      <td>0</td>\n",
       "      <td>4</td>\n",
       "      <td>0</td>\n",
       "      <td>7</td>\n",
       "      <td>14</td>\n",
       "      <td>0</td>\n",
       "      <td>0</td>\n",
       "      <td>28.000000</td>\n",
       "      <td>25.00</td>\n",
       "      <td>7.200000</td>\n",
       "      <td>30.0</td>\n",
       "    </tr>\n",
       "    <tr>\n",
       "      <th>4</th>\n",
       "      <td>A Nehra</td>\n",
       "      <td>6</td>\n",
       "      <td>98</td>\n",
       "      <td>85</td>\n",
       "      <td>4</td>\n",
       "      <td>9</td>\n",
       "      <td>5</td>\n",
       "      <td>44</td>\n",
       "      <td>22</td>\n",
       "      <td>5</td>\n",
       "      <td>0</td>\n",
       "      <td>51.764706</td>\n",
       "      <td>21.25</td>\n",
       "      <td>6.917647</td>\n",
       "      <td>24.5</td>\n",
       "    </tr>\n",
       "  </tbody>\n",
       "</table>\n",
       "</div>"
      ],
      "text/plain": [
       "        bowler  Innings  Runs  Balls  Dismissals  Fours  Sixes  Dots  Ones  Twos  Threes       Dot%     SR       Eco   Avg\n",
       "0  A Chandila   1        4     6      0           0      0      3     2     1     0       50.000000  6.00   4.000000  4.0 \n",
       "1  A Choudhary  2        20    18     1           2      1      10    4     1     0       55.555556  18.00  6.666667  20.0\n",
       "2  A Kumble     3        16    18     0           2      0      9     6     1     0       50.000000  18.00  5.333333  16.0\n",
       "3  A Mithun     3        30    25     0           4      0      7     14    0     0       28.000000  25.00  7.200000  30.0\n",
       "4  A Nehra      6        98    85     4           9      5      44    22    5     0       51.764706  21.25  6.917647  24.5"
      ]
     },
     "execution_count": 15,
     "metadata": {},
     "output_type": "execute_result"
    }
   ],
   "source": [
    "df5.head()"
   ]
  },
  {
   "cell_type": "code",
   "execution_count": 16,
   "metadata": {},
   "outputs": [
    {
     "data": {
      "text/html": [
       "<div>\n",
       "<style scoped>\n",
       "    .dataframe tbody tr th:only-of-type {\n",
       "        vertical-align: middle;\n",
       "    }\n",
       "\n",
       "    .dataframe tbody tr th {\n",
       "        vertical-align: top;\n",
       "    }\n",
       "\n",
       "    .dataframe thead th {\n",
       "        text-align: right;\n",
       "    }\n",
       "</style>\n",
       "<table border=\"1\" class=\"dataframe\">\n",
       "  <thead>\n",
       "    <tr style=\"text-align: right;\">\n",
       "      <th></th>\n",
       "      <th>bowler</th>\n",
       "      <th>Innings</th>\n",
       "      <th>Runs</th>\n",
       "      <th>Balls</th>\n",
       "      <th>Dismissals</th>\n",
       "      <th>Fours</th>\n",
       "      <th>Sixes</th>\n",
       "      <th>Dots</th>\n",
       "      <th>Ones</th>\n",
       "      <th>Twos</th>\n",
       "      <th>Threes</th>\n",
       "      <th>Dot%</th>\n",
       "      <th>SR</th>\n",
       "      <th>Eco</th>\n",
       "      <th>Avg</th>\n",
       "    </tr>\n",
       "  </thead>\n",
       "  <tbody>\n",
       "    <tr>\n",
       "      <th>0</th>\n",
       "      <td>A Ashish Reddy</td>\n",
       "      <td>4</td>\n",
       "      <td>73</td>\n",
       "      <td>42</td>\n",
       "      <td>1</td>\n",
       "      <td>5</td>\n",
       "      <td>5</td>\n",
       "      <td>14</td>\n",
       "      <td>14</td>\n",
       "      <td>3</td>\n",
       "      <td>1</td>\n",
       "      <td>33.333333</td>\n",
       "      <td>42.0</td>\n",
       "      <td>10.428571</td>\n",
       "      <td>73.00</td>\n",
       "    </tr>\n",
       "    <tr>\n",
       "      <th>1</th>\n",
       "      <td>A Chandila</td>\n",
       "      <td>1</td>\n",
       "      <td>11</td>\n",
       "      <td>12</td>\n",
       "      <td>0</td>\n",
       "      <td>0</td>\n",
       "      <td>1</td>\n",
       "      <td>6</td>\n",
       "      <td>5</td>\n",
       "      <td>0</td>\n",
       "      <td>0</td>\n",
       "      <td>50.000000</td>\n",
       "      <td>12.0</td>\n",
       "      <td>5.500000</td>\n",
       "      <td>11.00</td>\n",
       "    </tr>\n",
       "    <tr>\n",
       "      <th>2</th>\n",
       "      <td>A Choudhary</td>\n",
       "      <td>2</td>\n",
       "      <td>26</td>\n",
       "      <td>25</td>\n",
       "      <td>1</td>\n",
       "      <td>2</td>\n",
       "      <td>1</td>\n",
       "      <td>12</td>\n",
       "      <td>8</td>\n",
       "      <td>2</td>\n",
       "      <td>0</td>\n",
       "      <td>48.000000</td>\n",
       "      <td>25.0</td>\n",
       "      <td>6.240000</td>\n",
       "      <td>26.00</td>\n",
       "    </tr>\n",
       "    <tr>\n",
       "      <th>3</th>\n",
       "      <td>A Kumble</td>\n",
       "      <td>12</td>\n",
       "      <td>306</td>\n",
       "      <td>246</td>\n",
       "      <td>6</td>\n",
       "      <td>26</td>\n",
       "      <td>9</td>\n",
       "      <td>78</td>\n",
       "      <td>121</td>\n",
       "      <td>11</td>\n",
       "      <td>0</td>\n",
       "      <td>31.707317</td>\n",
       "      <td>41.0</td>\n",
       "      <td>7.463415</td>\n",
       "      <td>51.00</td>\n",
       "    </tr>\n",
       "    <tr>\n",
       "      <th>4</th>\n",
       "      <td>A Mishra</td>\n",
       "      <td>5</td>\n",
       "      <td>159</td>\n",
       "      <td>104</td>\n",
       "      <td>4</td>\n",
       "      <td>13</td>\n",
       "      <td>7</td>\n",
       "      <td>26</td>\n",
       "      <td>51</td>\n",
       "      <td>7</td>\n",
       "      <td>0</td>\n",
       "      <td>25.000000</td>\n",
       "      <td>26.0</td>\n",
       "      <td>9.173077</td>\n",
       "      <td>39.75</td>\n",
       "    </tr>\n",
       "  </tbody>\n",
       "</table>\n",
       "</div>"
      ],
      "text/plain": [
       "           bowler  Innings  Runs  Balls  Dismissals  Fours  Sixes  Dots  Ones  Twos  Threes       Dot%    SR        Eco    Avg\n",
       "0  A Ashish Reddy  4        73    42     1           5      5      14    14    3     1       33.333333  42.0  10.428571  73.00\n",
       "1  A Chandila      1        11    12     0           0      1      6     5     0     0       50.000000  12.0  5.500000   11.00\n",
       "2  A Choudhary     2        26    25     1           2      1      12    8     2     0       48.000000  25.0  6.240000   26.00\n",
       "3  A Kumble        12       306   246    6           26     9      78    121   11    0       31.707317  41.0  7.463415   51.00\n",
       "4  A Mishra        5        159   104    4           13     7      26    51    7     0       25.000000  26.0  9.173077   39.75"
      ]
     },
     "execution_count": 16,
     "metadata": {},
     "output_type": "execute_result"
    }
   ],
   "source": [
    "df6.head()"
   ]
  },
  {
   "cell_type": "code",
   "execution_count": 17,
   "metadata": {},
   "outputs": [
    {
     "data": {
      "text/html": [
       "<div>\n",
       "<style scoped>\n",
       "    .dataframe tbody tr th:only-of-type {\n",
       "        vertical-align: middle;\n",
       "    }\n",
       "\n",
       "    .dataframe tbody tr th {\n",
       "        vertical-align: top;\n",
       "    }\n",
       "\n",
       "    .dataframe thead th {\n",
       "        text-align: right;\n",
       "    }\n",
       "</style>\n",
       "<table border=\"1\" class=\"dataframe\">\n",
       "  <thead>\n",
       "    <tr style=\"text-align: right;\">\n",
       "      <th></th>\n",
       "      <th>bowler</th>\n",
       "      <th>Innings</th>\n",
       "      <th>Runs</th>\n",
       "      <th>Balls</th>\n",
       "      <th>Dismissals</th>\n",
       "      <th>Fours</th>\n",
       "      <th>Sixes</th>\n",
       "      <th>Dots</th>\n",
       "      <th>Ones</th>\n",
       "      <th>Twos</th>\n",
       "      <th>Threes</th>\n",
       "      <th>Dot%</th>\n",
       "      <th>SR</th>\n",
       "      <th>Eco</th>\n",
       "      <th>Avg</th>\n",
       "    </tr>\n",
       "  </thead>\n",
       "  <tbody>\n",
       "    <tr>\n",
       "      <th>0</th>\n",
       "      <td>A Ashish Reddy</td>\n",
       "      <td>1</td>\n",
       "      <td>13</td>\n",
       "      <td>6</td>\n",
       "      <td>1</td>\n",
       "      <td>1</td>\n",
       "      <td>1</td>\n",
       "      <td>1</td>\n",
       "      <td>3</td>\n",
       "      <td>0</td>\n",
       "      <td>0</td>\n",
       "      <td>16.666667</td>\n",
       "      <td>6.0</td>\n",
       "      <td>13.000000</td>\n",
       "      <td>13.000000</td>\n",
       "    </tr>\n",
       "    <tr>\n",
       "      <th>1</th>\n",
       "      <td>A Chandila</td>\n",
       "      <td>1</td>\n",
       "      <td>6</td>\n",
       "      <td>6</td>\n",
       "      <td>0</td>\n",
       "      <td>0</td>\n",
       "      <td>0</td>\n",
       "      <td>1</td>\n",
       "      <td>4</td>\n",
       "      <td>1</td>\n",
       "      <td>0</td>\n",
       "      <td>16.666667</td>\n",
       "      <td>6.0</td>\n",
       "      <td>6.000000</td>\n",
       "      <td>6.000000</td>\n",
       "    </tr>\n",
       "    <tr>\n",
       "      <th>2</th>\n",
       "      <td>A Choudhary</td>\n",
       "      <td>1</td>\n",
       "      <td>11</td>\n",
       "      <td>12</td>\n",
       "      <td>1</td>\n",
       "      <td>1</td>\n",
       "      <td>0</td>\n",
       "      <td>6</td>\n",
       "      <td>3</td>\n",
       "      <td>2</td>\n",
       "      <td>0</td>\n",
       "      <td>50.000000</td>\n",
       "      <td>12.0</td>\n",
       "      <td>5.500000</td>\n",
       "      <td>11.000000</td>\n",
       "    </tr>\n",
       "    <tr>\n",
       "      <th>3</th>\n",
       "      <td>A Kumble</td>\n",
       "      <td>5</td>\n",
       "      <td>41</td>\n",
       "      <td>27</td>\n",
       "      <td>3</td>\n",
       "      <td>1</td>\n",
       "      <td>4</td>\n",
       "      <td>9</td>\n",
       "      <td>13</td>\n",
       "      <td>0</td>\n",
       "      <td>0</td>\n",
       "      <td>33.333333</td>\n",
       "      <td>9.0</td>\n",
       "      <td>9.111111</td>\n",
       "      <td>13.666667</td>\n",
       "    </tr>\n",
       "    <tr>\n",
       "      <th>4</th>\n",
       "      <td>A Mithun</td>\n",
       "      <td>5</td>\n",
       "      <td>75</td>\n",
       "      <td>44</td>\n",
       "      <td>2</td>\n",
       "      <td>6</td>\n",
       "      <td>5</td>\n",
       "      <td>14</td>\n",
       "      <td>17</td>\n",
       "      <td>2</td>\n",
       "      <td>0</td>\n",
       "      <td>31.818182</td>\n",
       "      <td>22.0</td>\n",
       "      <td>10.227273</td>\n",
       "      <td>37.500000</td>\n",
       "    </tr>\n",
       "  </tbody>\n",
       "</table>\n",
       "</div>"
      ],
      "text/plain": [
       "           bowler  Innings  Runs  Balls  Dismissals  Fours  Sixes  Dots  Ones  Twos  Threes       Dot%    SR        Eco        Avg\n",
       "0  A Ashish Reddy  1        13    6      1           1      1      1     3     0     0       16.666667  6.0   13.000000  13.000000\n",
       "1  A Chandila      1        6     6      0           0      0      1     4     1     0       16.666667  6.0   6.000000   6.000000 \n",
       "2  A Choudhary     1        11    12     1           1      0      6     3     2     0       50.000000  12.0  5.500000   11.000000\n",
       "3  A Kumble        5        41    27     3           1      4      9     13    0     0       33.333333  9.0   9.111111   13.666667\n",
       "4  A Mithun        5        75    44     2           6      5      14    17    2     0       31.818182  22.0  10.227273  37.500000"
      ]
     },
     "execution_count": 17,
     "metadata": {},
     "output_type": "execute_result"
    }
   ],
   "source": [
    "df7.head()"
   ]
  },
  {
   "cell_type": "code",
   "execution_count": 18,
   "metadata": {},
   "outputs": [
    {
     "data": {
      "text/plain": [
       "(8.140861917724017, 8.441590025867663, 11.24405110463114)"
      ]
     },
     "execution_count": 18,
     "metadata": {},
     "output_type": "execute_result"
    }
   ],
   "source": [
    "np.mean(df5['Eco']),np.mean(df6['Eco']),np.mean(df7['Eco'])"
   ]
  },
  {
   "cell_type": "code",
   "execution_count": 19,
   "metadata": {},
   "outputs": [
    {
     "data": {
      "text/plain": [
       "(18.600346320346322, 21.326092853687197, 10.919135802469135)"
      ]
     },
     "execution_count": 19,
     "metadata": {},
     "output_type": "execute_result"
    }
   ],
   "source": [
    "np.mean(df5['SR']),np.mean(df6['SR']),np.mean(df7['SR'])"
   ]
  },
  {
   "cell_type": "code",
   "execution_count": 20,
   "metadata": {},
   "outputs": [
    {
     "data": {
      "text/plain": [
       "(24.310317460317457, 30.26602117745986, 20.381035141329264)"
      ]
     },
     "execution_count": 20,
     "metadata": {},
     "output_type": "execute_result"
    }
   ],
   "source": [
    "np.mean(df5['Avg']),np.mean(df6['Avg']),np.mean(df7['Avg'])"
   ]
  },
  {
   "cell_type": "code",
   "execution_count": 21,
   "metadata": {},
   "outputs": [
    {
     "data": {
      "text/plain": [
       "(42.12999081627968, 29.182536712704596, 26.105667671208717)"
      ]
     },
     "execution_count": 21,
     "metadata": {},
     "output_type": "execute_result"
    }
   ],
   "source": [
    "np.mean(df5['Dot%']),np.mean(df6['Dot%']),np.mean(df7['Dot%'])"
   ]
  },
  {
   "cell_type": "markdown",
   "metadata": {},
   "source": [
    "## Normalization"
   ]
  },
  {
   "cell_type": "code",
   "execution_count": 42,
   "metadata": {},
   "outputs": [],
   "source": [
    "df5 = df5[df5.Balls >= 24]"
   ]
  },
  {
   "cell_type": "code",
   "execution_count": 43,
   "metadata": {},
   "outputs": [],
   "source": [
    "max_val = max(df5['Dot%'])\n",
    "min_val = min(df5['Dot%'])\n",
    "max_val1 = max(df5['SR'])\n",
    "min_val1 = min(df5['SR'])\n",
    "max_val2 = max(df5['Eco'])\n",
    "min_val2 = min(df5['Eco'])\n",
    "max_val3 = max(df5['Avg'])\n",
    "min_val3 = min(df5['Avg'])\n",
    "\n",
    "df5['Dot% Norm'] = df5['Dot%'].apply(lambda x : (x-min_val)/(max_val - min_val))\n",
    "df5['SR Norm'] = df5['SR'].apply(lambda x : (x-min_val1)/(max_val1 - min_val1))\n",
    "df5['Eco Norm'] = df5['Eco'].apply(lambda x : (x-min_val2)/(max_val2 - min_val2))\n",
    "df5['Avg Norm'] = df5['Avg'].apply(lambda x : (x-min_val3)/(max_val3 - min_val3))"
   ]
  },
  {
   "cell_type": "code",
   "execution_count": 45,
   "metadata": {},
   "outputs": [
    {
     "data": {
      "text/html": [
       "<div>\n",
       "<style scoped>\n",
       "    .dataframe tbody tr th:only-of-type {\n",
       "        vertical-align: middle;\n",
       "    }\n",
       "\n",
       "    .dataframe tbody tr th {\n",
       "        vertical-align: top;\n",
       "    }\n",
       "\n",
       "    .dataframe thead th {\n",
       "        text-align: right;\n",
       "    }\n",
       "</style>\n",
       "<table border=\"1\" class=\"dataframe\">\n",
       "  <thead>\n",
       "    <tr style=\"text-align: right;\">\n",
       "      <th></th>\n",
       "      <th>bowler</th>\n",
       "      <th>Innings</th>\n",
       "      <th>Runs</th>\n",
       "      <th>Balls</th>\n",
       "      <th>Dismissals</th>\n",
       "      <th>Fours</th>\n",
       "      <th>Sixes</th>\n",
       "      <th>Dots</th>\n",
       "      <th>Ones</th>\n",
       "      <th>Twos</th>\n",
       "      <th>Threes</th>\n",
       "      <th>Dot%</th>\n",
       "      <th>SR</th>\n",
       "      <th>Eco</th>\n",
       "      <th>Avg</th>\n",
       "      <th>Eco Norm</th>\n",
       "      <th>Dot% Norm</th>\n",
       "      <th>SR Norm</th>\n",
       "      <th>Avg Norm</th>\n",
       "    </tr>\n",
       "  </thead>\n",
       "  <tbody>\n",
       "    <tr>\n",
       "      <th>3</th>\n",
       "      <td>A Mithun</td>\n",
       "      <td>3</td>\n",
       "      <td>30</td>\n",
       "      <td>25</td>\n",
       "      <td>0</td>\n",
       "      <td>4</td>\n",
       "      <td>0</td>\n",
       "      <td>7</td>\n",
       "      <td>14</td>\n",
       "      <td>0</td>\n",
       "      <td>0</td>\n",
       "      <td>28.000000</td>\n",
       "      <td>25.00</td>\n",
       "      <td>7.200000</td>\n",
       "      <td>30.0</td>\n",
       "      <td>0.431718</td>\n",
       "      <td>0.000000</td>\n",
       "      <td>0.200351</td>\n",
       "      <td>0.148073</td>\n",
       "    </tr>\n",
       "    <tr>\n",
       "      <th>4</th>\n",
       "      <td>A Nehra</td>\n",
       "      <td>6</td>\n",
       "      <td>98</td>\n",
       "      <td>85</td>\n",
       "      <td>4</td>\n",
       "      <td>9</td>\n",
       "      <td>5</td>\n",
       "      <td>44</td>\n",
       "      <td>22</td>\n",
       "      <td>5</td>\n",
       "      <td>0</td>\n",
       "      <td>51.764706</td>\n",
       "      <td>21.25</td>\n",
       "      <td>6.917647</td>\n",
       "      <td>24.5</td>\n",
       "      <td>0.387147</td>\n",
       "      <td>0.578955</td>\n",
       "      <td>0.154218</td>\n",
       "      <td>0.109026</td>\n",
       "    </tr>\n",
       "    <tr>\n",
       "      <th>8</th>\n",
       "      <td>AB Dinda</td>\n",
       "      <td>8</td>\n",
       "      <td>113</td>\n",
       "      <td>109</td>\n",
       "      <td>5</td>\n",
       "      <td>9</td>\n",
       "      <td>2</td>\n",
       "      <td>44</td>\n",
       "      <td>44</td>\n",
       "      <td>9</td>\n",
       "      <td>1</td>\n",
       "      <td>40.366972</td>\n",
       "      <td>21.80</td>\n",
       "      <td>6.220183</td>\n",
       "      <td>22.6</td>\n",
       "      <td>0.277048</td>\n",
       "      <td>0.301284</td>\n",
       "      <td>0.160984</td>\n",
       "      <td>0.095538</td>\n",
       "    </tr>\n",
       "  </tbody>\n",
       "</table>\n",
       "</div>"
      ],
      "text/plain": [
       "     bowler  Innings  Runs  Balls  Dismissals  Fours  Sixes  Dots  Ones  Twos  Threes       Dot%     SR       Eco   Avg  Eco Norm  Dot% Norm   SR Norm  Avg Norm\n",
       "3  A Mithun  3        30    25     0           4      0      7     14    0     0       28.000000  25.00  7.200000  30.0  0.431718  0.000000   0.200351  0.148073\n",
       "4  A Nehra   6        98    85     4           9      5      44    22    5     0       51.764706  21.25  6.917647  24.5  0.387147  0.578955   0.154218  0.109026\n",
       "8  AB Dinda  8        113   109    5           9      2      44    44    9     1       40.366972  21.80  6.220183  22.6  0.277048  0.301284   0.160984  0.095538"
      ]
     },
     "execution_count": 45,
     "metadata": {},
     "output_type": "execute_result"
    }
   ],
   "source": [
    "df5.head(3)"
   ]
  },
  {
   "cell_type": "code",
   "execution_count": 47,
   "metadata": {},
   "outputs": [],
   "source": [
    "df5['Score'] = df5.apply(lambda x : x['Dot% Norm']*0.13 + x['SR Norm']*0.35 + x['Eco Norm']*0.16 + x['Avg Norm']*0.35, axis = 1)"
   ]
  },
  {
   "cell_type": "markdown",
   "metadata": {},
   "source": [
    "# STANDARDIZATION\n",
    "\n",
    "### Mean_value = np.mean(df5['Eco'])\n",
    "### Standard_Deviation = np.std(df5['Eco'])\n",
    "\n",
    "## df5['Z_Eco'] = df5['Eco'].apply(lambda x : (x - Mean_value)/Standard_Deviation, axis = 1)"
   ]
  },
  {
   "cell_type": "markdown",
   "metadata": {},
   "source": [
    "## For bowling strategy, use the similar kind of dividing phases as in batting analysis and get the df. Then based on the phases, get the data required. Using those data, perform techniques like normalization, standardization and topsis method to analyse further and deeper."
   ]
  }
 ],
 "metadata": {
  "kernelspec": {
   "display_name": "Python 3",
   "language": "python",
   "name": "python3"
  },
  "language_info": {
   "codemirror_mode": {
    "name": "ipython",
    "version": 3
   },
   "file_extension": ".py",
   "mimetype": "text/x-python",
   "name": "python",
   "nbconvert_exporter": "python",
   "pygments_lexer": "ipython3",
   "version": "3.8.5"
  }
 },
 "nbformat": 4,
 "nbformat_minor": 4
}
